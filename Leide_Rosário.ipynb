{
  "nbformat": 4,
  "nbformat_minor": 0,
  "metadata": {
    "colab": {
      "provenance": [],
      "authorship_tag": "ABX9TyNunUobJpc5ZDZxW20aY+Vm",
      "include_colab_link": true
    },
    "kernelspec": {
      "name": "python3",
      "display_name": "Python 3"
    },
    "language_info": {
      "name": "python"
    }
  },
  "cells": [
    {
      "cell_type": "markdown",
      "metadata": {
        "id": "view-in-github",
        "colab_type": "text"
      },
      "source": [
        "<a href=\"https://colab.research.google.com/github/leiderosario/PB-LEIDE-ROSARIO/blob/main/Leide_Ros%C3%A1rio.ipynb\" target=\"_parent\"><img src=\"https://colab.research.google.com/assets/colab-badge.svg\" alt=\"Open In Colab\"/></a>"
      ]
    },
    {
      "cell_type": "code",
      "execution_count": null,
      "metadata": {
        "colab": {
          "base_uri": "https://localhost:8080/"
        },
        "id": "NRa7xm45hbUw",
        "outputId": "82f2d849-67a2-41cc-a483-16134d8d5e14"
      },
      "outputs": [
        {
          "output_type": "stream",
          "name": "stdout",
          "text": [
            "Leide\n"
          ]
        }
      ],
      "source": [
        "#print para imprimir a tela \" \" porque é string -> conjunto de carcteres \"&W%%% eeee 4444\"\n",
        "print(\"Leide\")\n"
      ]
    },
    {
      "cell_type": "code",
      "source": [
        "aula=\"Introdução a Python\"\n",
        "print(aula)\n",
        "\n",
        "lista_de_frutas =[\"maça\", \"banana\" ,\"uva\"]\n",
        "print(lista_de_frutas)\n",
        "\n",
        "tupla_de_familiares = (\"Bryan\",\"Deivison\", \" Luciana\")\n",
        "print(tupla_de_familiares)\n",
        "\n",
        "dicionario_de_dados = {\"nome\": \"Leide\", \"idade\": \"36\"}\n",
        "print(dicionario_de_dados)\n",
        "\n",
        "#string -> \"\"\n",
        "#ing -> 1\n",
        "#flot -> 1.6\n",
        "#bool -> True false\n",
        "#list -> [1,4,5]\n",
        "#dicionario {\"nome\": \"letícia\", \"idade\": 20}\n",
        "#tupla (1,3,5)"
      ],
      "metadata": {
        "colab": {
          "base_uri": "https://localhost:8080/"
        },
        "id": "CvyQYmZNqhcN",
        "outputId": "a832afdc-47b6-4b78-ad89-f0d74bc98a20"
      },
      "execution_count": null,
      "outputs": [
        {
          "output_type": "stream",
          "name": "stdout",
          "text": [
            "Introdução a Python\n",
            "['maça', 'banana', 'uva']\n",
            "('Bryan', 'Deivison', ' Luciana')\n",
            "{'nome': 'Leide', 'idade': '36'}\n"
          ]
        }
      ]
    },
    {
      "cell_type": "code",
      "source": [
        "lista_de_frutas.append(\"laranja\")\n",
        "print(lista_de_frutas)"
      ],
      "metadata": {
        "colab": {
          "base_uri": "https://localhost:8080/"
        },
        "id": "omjFyk-j07ud",
        "outputId": "d19d49db-a6a5-4680-fc61-279dbb3fb9a1"
      },
      "execution_count": null,
      "outputs": [
        {
          "output_type": "stream",
          "name": "stdout",
          "text": [
            "['maça', 'banana', 'uva', 'laranja']\n"
          ]
        }
      ]
    },
    {
      "cell_type": "code",
      "source": [
        "lista_de_frutas.remove(\"uva\")\n",
        "print(lista_de_frutas)"
      ],
      "metadata": {
        "colab": {
          "base_uri": "https://localhost:8080/"
        },
        "id": "XGO5IWQa1wqB",
        "outputId": "0691089f-e138-4cf5-9433-25b70dbdd399"
      },
      "execution_count": null,
      "outputs": [
        {
          "output_type": "stream",
          "name": "stdout",
          "text": [
            "['maça', 'banana', 'laranja']\n"
          ]
        }
      ]
    },
    {
      "cell_type": "code",
      "source": [
        "dicionario_de_compras ={\n",
        "    \"arroz\" :2,\n",
        "    \"feijão\" : 1,\n",
        "    \"macarrão\" : 3,\n",
        "    \"carne_bovina\" : 1,\n",
        "    \"frango\": 1,\n",
        "    \"ovo\": 12,\n",
        "}\n",
        "print(dicionario_de_compras)"
      ],
      "metadata": {
        "colab": {
          "base_uri": "https://localhost:8080/"
        },
        "id": "AeiTHSr74Ns-",
        "outputId": "9e6e17b4-b0d8-4403-88c2-db7eac866341"
      },
      "execution_count": null,
      "outputs": [
        {
          "output_type": "stream",
          "name": "stdout",
          "text": [
            "{'arroz': 2, 'feijão': 1, 'macarrão': 3, 'carne_bovina': 1, 'frango': 1, 'ovo': 12}\n"
          ]
        }
      ]
    },
    {
      "cell_type": "code",
      "source": [
        "num_1 = 44\n",
        "num_2 = 222\n",
        "resultado_3 = num_1 + num_2\n",
        "print(resultado_3)"
      ],
      "metadata": {
        "colab": {
          "base_uri": "https://localhost:8080/"
        },
        "id": "kYH1aXJayO7I",
        "outputId": "55c7e335-00a8-49c2-b7b8-db156761f89a"
      },
      "execution_count": null,
      "outputs": [
        {
          "output_type": "stream",
          "name": "stdout",
          "text": [
            "266\n"
          ]
        }
      ]
    }
  ]
}